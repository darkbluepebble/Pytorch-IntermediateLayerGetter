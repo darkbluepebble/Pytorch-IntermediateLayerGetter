{
 "nbformat": 4,
 "nbformat_minor": 2,
 "metadata": {
  "language_info": {
   "name": "python",
   "codemirror_mode": {
    "name": "ipython",
    "version": 3
   }
  },
  "orig_nbformat": 2,
  "file_extension": ".py",
  "mimetype": "text/x-python",
  "name": "python",
  "npconvert_exporter": "python",
  "pygments_lexer": "ipython3",
  "version": 3
 },
 "cells": [
  {
   "cell_type": "code",
   "execution_count": 1,
   "metadata": {},
   "outputs": [],
   "source": [
    "import torch\n",
    "import torch.nn as nn\n",
    "\n",
    "from torch_intermediate_layer_getter import IntermediateLayerGetter as MidGetter"
   ]
  },
  {
   "cell_type": "code",
   "execution_count": 5,
   "metadata": {},
   "outputs": [],
   "source": [
    "class Model(nn.Module):\n",
    "    def __init__(self):\n",
    "        super().__init__()\n",
    "\n",
    "        self.fc1 = nn.Linear(2, 2)\n",
    "        self.fc2 = nn.Linear(2, 2)\n",
    "        self.nested = nn.Sequential(\n",
    "            nn.Sequential(nn.Linear(2, 2), nn.Linear(2, 3)),\n",
    "            nn.Linear(3, 1),\n",
    "        )\n",
    "        self.interaction_idty = nn.Identity()\n",
    "\n",
    "    def forward(self, x):\n",
    "        x1 = self.fc1(x)\n",
    "        x2 = self.fc2(x)\n",
    "\n",
    "        interaction = x1 * x2\n",
    "        self.interaction_idty(interaction)\n",
    "\n",
    "        x_out = self.nested(interaction)\n",
    "\n",
    "        return x_out"
   ]
  },
  {
   "cell_type": "code",
   "execution_count": 6,
   "metadata": {},
   "outputs": [
    {
     "name": "stdout",
     "output_type": "stream",
     "text": "tensor([[0.3219]], grad_fn=<AddmmBackward>)\nOrderedDict([('fc2', tensor([[-1.5125,  0.9334]], grad_fn=<AddmmBackward>)), ('interaction', tensor([[-0.0687, -0.1462]], grad_fn=<MulBackward0>)), ('nested', tensor([[-0.1697,  0.1432,  0.2959]], grad_fn=<AddmmBackward>))])\n"
    }
   ],
   "source": [
    "model = Model()\n",
    "return_layers = {\n",
    "    'fc2': 'fc2',\n",
    "    'nested.0.1': 'nested',\n",
    "    'interaction_idty': 'interaction',\n",
    "}\n",
    "mid_getter = MidGetter(model, return_layers=return_layers, keep_output=True)\n",
    "mid_outputs, model_output = mid_getter(torch.randn(1, 2))\n",
    "\n",
    "print(model_output)\n",
    "print(mid_outputs)"
   ]
  },
  {
   "cell_type": "code",
   "execution_count": null,
   "metadata": {},
   "outputs": [],
   "source": []
  }
 ]
}